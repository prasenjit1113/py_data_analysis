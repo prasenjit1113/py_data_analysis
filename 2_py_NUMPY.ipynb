{
 "cells": [
  {
   "cell_type": "markdown",
   "metadata": {},
   "source": [
    "Unlike lists, numpy arrays are used to perform arithmatic operations..it is faster and consumes less memory than list..all data type must be same"
   ]
  },
  {
   "cell_type": "code",
   "execution_count": null,
   "metadata": {},
   "outputs": [],
   "source": [
    "import numpy as np\n",
    "a=np.array([22,34,14,56])\n",
    "b=np.array([21,33,45,64])\n",
    "print(a)\n",
    "print(b)\n",
    "print(a+b)"
   ]
  },
  {
   "cell_type": "code",
   "execution_count": null,
   "metadata": {},
   "outputs": [],
   "source": [
    "# a=np.array([23,45,'wjhs'])\n",
    "# a=np.array([23,45, 22.34,'wjhs'])\n",
    "a=np.array([23,45, 22.34])\n",
    "print(a)"
   ]
  },
  {
   "cell_type": "markdown",
   "metadata": {},
   "source": [
    "Important difference b/w lists and arrays\n",
    "->In lists there can be any number of lists with any number of variables\n",
    "->But In arrays must be same number of elements in all lists"
   ]
  },
  {
   "cell_type": "code",
   "execution_count": null,
   "metadata": {},
   "outputs": [],
   "source": [
    "import numpy as np\n",
    "# a=np.array([22,11],[44,55,26])   //error\n",
    "a=np.array([[22,33,55,11],[44,55,11,22],[24,85,11,62]])\n",
    "# print(type(a))\n",
    "print(np.shape(a))   #defines rows,columns of matrix\n",
    "print(np.size(a))   #toal number of elements\n",
    "print(np.ndim(a))   #number of array dimensions\n",
    "print(a.dtype)      #data type\n",
    "print(a.shape)\n",
    "print(a.astype(str))   #converts as typecasting\n",
    "print(a.astype(int))\n",
    "\n",
    "# slicing\n",
    "# a=np.array([22,33,55,11])\n",
    "# print(a[1:3])\n",
    "# print(a[:3])\n",
    "\n",
    "# a=np.array([[22,33,55,11],[44,55,11,22]])\n",
    "# print(a[0,1:3])   #0-> 1st row\n",
    "# print(a[1,1:3])   #1-> 2nd row"
   ]
  },
  {
   "cell_type": "markdown",
   "metadata": {},
   "source": [
    "Mathematical operations , join and split"
   ]
  },
  {
   "cell_type": "code",
   "execution_count": null,
   "metadata": {},
   "outputs": [],
   "source": [
    "import numpy as np\n",
    "a1=np.array([30,40,50,60])\n",
    "a2=np.array([22,36,15,70])\n",
    "# print(a1+a2)\n",
    "print(np.add(a1,a2))\n",
    "# print(a1-a2)\n",
    "print(np.subtract(a1,a2))\n",
    "# print(a1*a2)\n",
    "print(np.multiply(a1,a2))\n",
    "# print(a1/a2)\n",
    "print(np.divide(a1,a2))"
   ]
  },
  {
   "cell_type": "code",
   "execution_count": null,
   "metadata": {},
   "outputs": [],
   "source": [
    "a1=np.array([3,4,5,2])\n",
    "a2=np.array([3])\n",
    "# print(pow(a1,a2))\n",
    "print(np.power(a1,a2))\n",
    "a3=np.array([9,4,25,36])\n",
    "print(np.sqrt(a3))\n",
    "a4=np.array([22,36,15,70])\n",
    "print(np.concatenate([a1,a4]))"
   ]
  },
  {
   "cell_type": "code",
   "execution_count": null,
   "metadata": {},
   "outputs": [],
   "source": [
    "a1=np.array([[22,3],[15,40]])\n",
    "a2=np.array([[2,36],[5,70]])\n",
    "# concatenate by axis\n",
    "# print(np.concatenate([a1,a2],axis=0))   #horizontal concatenation\n",
    "# print(np.concatenate([a1,a2],axis=1))   #vertical concatenation\n",
    "print(np.vstack([a1,a2]))   #horizontal concatenation\n",
    "print(np.hstack([a1,a2]))   #vertical concatenation"
   ]
  },
  {
   "cell_type": "code",
   "execution_count": null,
   "metadata": {},
   "outputs": [],
   "source": [
    "a=np.array([11,22,33,44,55,66,77,88])\n",
    "b=np.array_split(a,3)   #devides into 3 arrays\n",
    "print(b)"
   ]
  },
  {
   "cell_type": "markdown",
   "metadata": {},
   "source": [
    "Adding and removing"
   ]
  },
  {
   "cell_type": "code",
   "execution_count": null,
   "metadata": {},
   "outputs": [],
   "source": [
    "import numpy as np\n",
    "# Append\n",
    "a=np.array([22,44,56])\n",
    "# print(np.append(a,77))    \n",
    "a1=np.array([[22,44,56],[11,33,55]])\n",
    "print(np.append(a1,[12,16])) #for 2-d arrays it first converts it into 1-d array then appends\n",
    "\n",
    "print()\n",
    "\n",
    "# Insert\n",
    "print(np.insert(a,2,12))    #array,index,valuye\n",
    "print(np.insert(a1,1,[32,33,34],axis=0))    #for 2d arrays\n",
    "\n",
    "print()\n",
    "\n",
    "#delete\n",
    "print(np.delete(a,2))\n",
    "print(a1)\n",
    "print()\n",
    "print(np.delete(a1,2,axis=1))   #deletes column wise\n",
    "print(np.delete(a1,1,axis=0))   #deletes row wise\n"
   ]
  },
  {
   "cell_type": "markdown",
   "metadata": {},
   "source": [
    "Sort,Search,Filter"
   ]
  },
  {
   "cell_type": "code",
   "execution_count": null,
   "metadata": {},
   "outputs": [],
   "source": [
    "# sort\n",
    "# ar=np.array([3,7,1,9,2,4])    #1-d arry\n",
    "# ar=np.array([[3,7,1,9,2,4],[11,33,77,22,12,8]]) #2-d array\n",
    "# print(np.sort(ar))\n",
    "\n",
    "\n",
    "#search\n",
    "ar=np.array([3,6,12,8,45,4,5])\n",
    "# s=np.where(ar==4)   #return index where the value present\n",
    "s=np.where( ar % 2 == 0 )\n",
    "print(s)\n",
    "\n",
    "# we can also use searchsorted func but we have to initialize the array in sorted order\n",
    "ar1=np.array([3,6,8,11,22])\n",
    "ss=np.searchsorted(ar1,22)\n",
    "print(ss)\n",
    "\n",
    "\n",
    "#filter\n",
    "ar2=np.array([3,6,12,8,45])\n",
    "# f=[False,False,False,True,False]\n",
    "# new=ar2[f]\n",
    "# print(new)  #the values defined as True only be printed\n",
    "\n",
    "# f=ar2>7\n",
    "f= ar2 % 2 == 0\n",
    "new=ar2[f]\n",
    "print(new)"
   ]
  },
  {
   "cell_type": "markdown",
   "metadata": {},
   "source": [
    "Aggregating Functions"
   ]
  },
  {
   "cell_type": "code",
   "execution_count": 11,
   "metadata": {},
   "outputs": [
    {
     "name": "stdout",
     "output_type": "stream",
     "text": [
      "44\n",
      "11\n",
      "142\n",
      "5\n",
      "28.4\n",
      "[ 22  55  66 110 142]\n",
      "[      22      726     7986   351384 11244288]\n"
     ]
    }
   ],
   "source": [
    "import numpy as np\n",
    "x=np.array([22,33,11,44,32])\n",
    "print(np.max(x))\n",
    "print(np.min(x))\n",
    "print(np.sum(x))\n",
    "print(np.size(x))\n",
    "print(np.mean(x))\n",
    "print(np.cumsum(x))\n",
    "print(np.cumprod(x))"
   ]
  },
  {
   "cell_type": "code",
   "execution_count": 16,
   "metadata": {},
   "outputs": [
    {
     "name": "stdout",
     "output_type": "stream",
     "text": [
      "[22 11 43  5 66  8] \n",
      " [10 20 30 40 60 50]\n",
      "[[  22   11   43    5   66    8]\n",
      " [ 220  220 1290  200 3960  400]]\n",
      "6290\n"
     ]
    }
   ],
   "source": [
    "# to find the total price of shopping\n",
    "a=[22,11,43,5,66,8]\n",
    "b=[10,20,30,40,60,50]\n",
    "price=np.array(a)\n",
    "quantity=np.array(b)\n",
    "print(price,\"\\n\",quantity)\n",
    "s=(np.cumprod([price,quantity],axis=0))\n",
    "# print(s)\n",
    "print(s[1])\n",
    "print(s[1].sum())"
   ]
  },
  {
   "cell_type": "markdown",
   "metadata": {},
   "source": [
    "*** Statistical Functions ****"
   ]
  },
  {
   "cell_type": "code",
   "execution_count": 17,
   "metadata": {},
   "outputs": [
    {
     "name": "stdout",
     "output_type": "stream",
     "text": [
      "287.875\n",
      "273.5\n",
      "200\n",
      "89.11570779049\n",
      "7941.609375\n"
     ]
    }
   ],
   "source": [
    "import numpy as np\n",
    "import statistics as stats\n",
    "baked_food=[200,212,354,466,321,226,200,324]\n",
    "a=np.array(baked_food)\n",
    "print(np.mean(baked_food))\n",
    "print(np.median(baked_food))\n",
    "print(stats.mode(baked_food))\n",
    "# standerd deviation is used to determine the quality of our product\n",
    "# the higher std value difines we need to optimize it by reducing the value\n",
    "print(np.std(baked_food))   #standerd deviation\n",
    "print(np.var(baked_food))   #variation is the power of stand.deviation\n"
   ]
  },
  {
   "cell_type": "code",
   "execution_count": 18,
   "metadata": {},
   "outputs": [
    {
     "name": "stdout",
     "output_type": "stream",
     "text": [
      "[[1.         0.81165962]\n",
      " [0.81165962 1.        ]]\n"
     ]
    }
   ],
   "source": [
    "# - 1 represents inversly proportional relationship\n",
    "# + 1 represents proportional relationship\n",
    "# 0 represents no relationship\n",
    "tobacco_consumption = [30,50,10,30,50,40]\n",
    "deaths = [100,120,70,120,110,111]\n",
    "\n",
    "# corrcoef--> coeficient of corelation , it tells us about the data\n",
    "print(np.corrcoef([tobacco_consumption,deaths]))\n",
    "# here between (0-1) result indicates tobacco_consumption increment also deaths increasing"
   ]
  },
  {
   "cell_type": "code",
   "execution_count": 19,
   "metadata": {},
   "outputs": [
    {
     "name": "stdout",
     "output_type": "stream",
     "text": [
      "[[ 1.         -0.69395784]\n",
      " [-0.69395784  1.        ]]\n"
     ]
    }
   ],
   "source": [
    "price = [300,200,100,150,200]\n",
    "sales = [10,20,30,17,4]\n",
    "\n",
    "print(np.corrcoef([price,sales]))\n",
    "# here between negetive result indicates sales increment when deaths decreases"
   ]
  }
 ],
 "metadata": {
  "kernelspec": {
   "display_name": "Python 3",
   "language": "python",
   "name": "python3"
  },
  "language_info": {
   "codemirror_mode": {
    "name": "ipython",
    "version": 3
   },
   "file_extension": ".py",
   "mimetype": "text/x-python",
   "name": "python",
   "nbconvert_exporter": "python",
   "pygments_lexer": "ipython3",
   "version": "3.7.6"
  }
 },
 "nbformat": 4,
 "nbformat_minor": 2
}
