{
 "cells": [
  {
   "cell_type": "markdown",
   "metadata": {},
   "source": [
    "Datetime modules"
   ]
  },
  {
   "cell_type": "code",
   "execution_count": null,
   "metadata": {},
   "outputs": [],
   "source": [
    "import datetime\n",
    "x=datetime.datetime.now()\n",
    "print (x)\n",
    "\n",
    "y=datetime.datetime(2001,8,11)\n",
    "print(y.strftime(\"%A\"))\n",
    "print(y.strftime(\"%B\"))\n",
    "print(y.strftime(\"%m\"))\n",
    "print(y.strftime(\"%Y\"))"
   ]
  },
  {
   "cell_type": "markdown",
   "metadata": {},
   "source": [
    "Random modules"
   ]
  },
  {
   "cell_type": "code",
   "execution_count": 2,
   "metadata": {},
   "outputs": [
    {
     "name": "stdout",
     "output_type": "stream",
     "text": [
      "1\n"
     ]
    }
   ],
   "source": [
    "import random\n",
    "# x=random.randint(1,10)  #generates random outputs\n",
    "x=random.randint(1,6)\n",
    "# l=[\"heads\",\"tails\"]\n",
    "# x=random.choice(l)\n",
    "print(x)"
   ]
  },
  {
   "cell_type": "markdown",
   "metadata": {},
   "source": [
    "Math Modules"
   ]
  },
  {
   "cell_type": "code",
   "execution_count": null,
   "metadata": {},
   "outputs": [],
   "source": [
    "import math\n",
    "x=max(13,44,5)\n",
    "print(\"max is: \",x)\n",
    "y=min(132,444,555)\n",
    "print(\"min is: \",y)\n",
    "z=pow(2,3)\n",
    "print(\"power is: \",z)\n",
    "s=math.sqrt(49)\n",
    "print(\"sqrt is: \",s)\n",
    "t=abs(-22*3)\n",
    "print(\"sqrt is: \",t)\n",
    "p=math.ceil(2.3)\n",
    "print(\"ceiling value\",p)\n",
    "q=math.floor(2.3)\n",
    "print(\"floor value\",q)"
   ]
  }
 ],
 "metadata": {
  "kernelspec": {
   "display_name": "Python 3",
   "language": "python",
   "name": "python3"
  },
  "language_info": {
   "codemirror_mode": {
    "name": "ipython",
    "version": 3
   },
   "file_extension": ".py",
   "mimetype": "text/x-python",
   "name": "python",
   "nbconvert_exporter": "python",
   "pygments_lexer": "ipython3",
   "version": "3.7.6"
  }
 },
 "nbformat": 4,
 "nbformat_minor": 2
}
